{
  "nbformat": 4,
  "nbformat_minor": 0,
  "metadata": {
    "colab": {
      "name": "Inheritance.ipynb",
      "provenance": [],
      "collapsed_sections": []
    },
    "kernelspec": {
      "display_name": "Python 3",
      "language": "python",
      "name": "python3"
    },
    "language_info": {
      "codemirror_mode": {
        "name": "ipython",
        "version": 3
      },
      "file_extension": ".py",
      "mimetype": "text/x-python",
      "name": "python",
      "nbconvert_exporter": "python",
      "pygments_lexer": "ipython3",
      "version": "3.8.5"
    }
  },
  "cells": [
    {
      "cell_type": "markdown",
      "metadata": {
        "id": "NIdznyQTN-GQ"
      },
      "source": [
        "# Inheritance\n",
        "\n",
        "When creating classes, sometimes several classes will overlap each other in terms of their desired attributes and content. When developing software, repetition is undesirable so it would great if we could avoid this repetition. Fortunately Python, like other object-oriented languages uses the idea of inheritance to do just that.\n",
        "\n",
        "In Python, one class (sometimes refer to as the \"child class\" or the \"subclass\") may inherit from another (sometimes referred to as the \"parent class\" or \"superclass\"). This means that the child class acquires all of the parent class' methods and properties.\n",
        "\n",
        "As an example, let's consider our ```Square``` class again. This class may be part of a family of classes describing different regular polygons, so we could create a ```RegularPolygon``` class that it descends from. This means we can put code into the ```RegularPolygon``` class which will be useful for all regular polygons and only put things into the square class which will be useful for describing squares.\n",
        "\n",
        "Before we start, let's think about what properties each class might have and whether they will be properties of all regular polygons or just a square:\n",
        "\n",
        "| All Regular Polygons | Squares |\n",
        "|------|-------|\n",
        "| Colour  |  Number of sides|\n",
        "| Side length | Area |\n",
        "|  | Perimeter |\n",
        "\n",
        "Now, let's begin by writing the ```RegularPolygon``` class definition."
      ]
    },
    {
      "cell_type": "code",
      "metadata": {
        "id": "UL5h29jQU9EE",
        "outputId": "7eef4a6c-3e6b-44b2-bdf8-b66d6a285ad8",
        "colab": {
          "base_uri": "https://localhost:8080/"
        }
      },
      "source": [
        "class RegularPolygon:\n",
        "  # A constructor which takes the colour and side length and sets them\n",
        "  def __init__(self, colour, side_length): #assign its clour and side_length\n",
        "    self._colour = colour #the _ here is just a notation\n",
        "    self._side_length = side_length\n",
        "\n",
        "  # A property to return the colour\n",
        "  @property\n",
        "  def colour(self):\n",
        "    return(self._colour) #once you asign colour a value, this will pass on to self._color and returned by colour property\n",
        "\n",
        "  # A property to return the side length\n",
        "  @property\n",
        "  def side_length(self): #same here for side_length \n",
        "    return(self._side_length)\n",
        "\n",
        "#Make an test an example\n",
        "polygon = RegularPolygon(\"green\", 2)\n",
        "print(polygon.colour)\n",
        "print(polygon.side_length)"
      ],
      "execution_count": 31,
      "outputs": [
        {
          "output_type": "stream",
          "name": "stdout",
          "text": [
            "green\n",
            "2\n"
          ]
        }
      ]
    },
    {
      "cell_type": "markdown",
      "metadata": {
        "id": "RsaTcvi27azZ"
      },
      "source": [
        "## Inheriting\n",
        "\n",
        "Now, let's create the ```Square``` class. We can cause it to inherit from the ```RegularPolygon``` class by placing the name of the ```RegularPolygon``` class inside parentheses following the name of the class.\n",
        "\n",
        "We can define a new constructor for this new class. When a new instance of the class is called, this constructor will be called rather than the constructor of ```RegularPolygon```. This is an example of \"overriding\". This is where an attribute of a child class will hide the an attribute of the parent class with the same name. \n",
        "\n",
        "However, we still want to use the constructor of the ```RegularPolygon``` class, and we can call this using the ```super``` function, which returns a reference to the parent class of the class currently being defined.\n"
      ]
    },
    {
      "cell_type": "code",
      "metadata": {
        "id": "TIE1SEgq7TcS",
        "outputId": "9e4e0103-a519-419c-e546-f47ac5caac14",
        "colab": {
          "base_uri": "https://localhost:8080/"
        }
      },
      "source": [
        "# Define the Square class\n",
        "# Cause it to inherit from the RegularPolygon class by writing \"(RegularPolygon)\" after the class name\n",
        "class Square(RegularPolygon): #so it is a subclass of RegularPolygon\n",
        "  # We can define the number of sides as a class variable because it's true for all squares\n",
        "  number_of_sides = 4\n",
        "  def __init__(self, colour, side_length):\n",
        "    # This syntax calls the constructor of the superclass of Square (i.e. RegularPolygon)\n",
        "    super().__init__(colour, side_length)\n",
        " #call back the construcgtor will valued already defined in the superclass\n",
        "  # Define a property to return the area\n",
        "  # This property can use the \"side_length\" attribute defined in Regular Polygon \n",
        "  @property\n",
        "  def area(self):\n",
        "    return(self.side_length ** 2)\n",
        "\n",
        "  # Define a property to return the perimeter\n",
        "  @property\n",
        "  def perimeter(self):\n",
        "    return(self.side_length * 4)\n",
        "\n",
        "# Create and test an example\n",
        "square = Square(\"red\", 3) #inherit from Regular\n",
        "# Check the number of sides\n",
        "print(square.number_of_sides) #variable defined for the subclass\n",
        "# The colour and side_length properties from the RegularPolygon class are avialable from this instance of the Square class\n",
        "print(square.colour)\n",
        "print(square.side_length)\n",
        "# The area and perimeter properties are also available\n",
        "print(square.area)\n",
        "print(square.perimeter)"
      ],
      "execution_count": 32,
      "outputs": [
        {
          "output_type": "stream",
          "name": "stdout",
          "text": [
            "4\n",
            "red\n",
            "3\n",
            "9\n",
            "12\n"
          ]
        }
      ]
    },
    {
      "cell_type": "markdown",
      "metadata": {
        "id": "v8MoieCm-LkK"
      },
      "source": [
        "### Exercise\n",
        "\n",
        "Define your own class representing a Triangle in the cell below. It should inherit from ```RegularPolygon``` and have properties returning its area and perimeter. Create an example and test it behaves as expected.\n",
        "\n",
        "The area of an equilateral triangle is equal to $\\frac{\\sqrt{3}a^{2}}{4}$ where $a$ is the length of one side.\n",
        "\n",
        "Remember you will need to have run the code cell above with the definition of ```RegularPolygon``` before you can inherit from it."
      ]
    },
    {
      "cell_type": "code",
      "metadata": {
        "id": "6zJ5PArL-cCQ",
        "outputId": "ccd602b8-a64d-4961-8ce9-10abf172f148",
        "colab": {
          "base_uri": "https://localhost:8080/"
        }
      },
      "source": [
        "import math\n",
        "\n",
        "class Triangle(RegularPolygon):\n",
        "  number_of_sides = 3 \n",
        "\n",
        "  def __init__(self, color, side_length):\n",
        "    super().__init__(color, side_length)\n",
        "\n",
        "  @property\n",
        "  def area(self):\n",
        "    return self.side_length**2  * math.sqrt(3)/4\n",
        "  \n",
        "  @property\n",
        "  def perimeter(self):\n",
        "    return self.side_length * 3 \n",
        "\n",
        "triangle = Triangle(\"blue\", 4)\n",
        "# Check the number of sides\n",
        "print(triangle.number_of_sides)\n",
        "# The colour and side_length properties from the RegularPolygon class are avialable from this instance of the Square class\n",
        "print(triangle.colour)\n",
        "print(triangle.side_length)\n",
        "# The area and perimeter properties are also available\n",
        "print(triangle.area)\n",
        "print(triangle.perimeter)"
      ],
      "execution_count": 33,
      "outputs": [
        {
          "output_type": "stream",
          "name": "stdout",
          "text": [
            "3\n",
            "blue\n",
            "4\n",
            "6.928203230275509\n",
            "12\n"
          ]
        }
      ]
    },
    {
      "cell_type": "code",
      "metadata": {
        "id": "SsOuObFe-cZY"
      },
      "source": [
        "#@title\n",
        "\n",
        "#Import the math module to get access to the square root function\n",
        "import math\n",
        "\n",
        "# Define the Triangle class\n",
        "# Cause it to inherit from the RegularPolygon class\n",
        "class Triangle(RegularPolygon):\n",
        "  # We can define the number of sides as a class variable because it's true for all triangles\n",
        "  number_of_sides = 3\n",
        "  def __init__(self, colour, side_length):\n",
        "    # Call the constructor of RegularPolygon\n",
        "    super().__init__(colour, side_length)\n",
        "\n",
        "  # Define a property to return the area\n",
        "  @property\n",
        "  def area(self):\n",
        "    return(math.sqrt(3) * self.side_length ** 2 / 4)\n",
        "\n",
        "  # Define a proeprty to return the perimeter\n",
        "  @property\n",
        "  def perimeter(self):\n",
        "    return(self.side_length * 3)\n",
        "\n",
        "# Create and test an example\n",
        "triangle = Triangle(\"blue\", 4)\n",
        "# Check the number of sides\n",
        "print(triangle.number_of_sides)\n",
        "# The colour and side_length properties from the RegularPolygon class are avialable from this instance of the Square class\n",
        "print(triangle.colour)\n",
        "print(triangle.side_length)\n",
        "# The area and perimeter properties are also available\n",
        "print(triangle.area)\n",
        "print(triangle.perimeter)"
      ],
      "execution_count": null,
      "outputs": []
    },
    {
      "cell_type": "markdown",
      "metadata": {
        "id": "72qSI_77_v0_"
      },
      "source": [
        "## Putting More in the Parent Class\n",
        "\n",
        "In general, it's a good idea to put more into a parent class if possible. It reduces the amount of code that needs to be written in the child classes. As there will generally be more than one child class, this will reduce the amount of code overall. So, careful thought about what can go into the child class can reduce the amount of code that needs to be written and maintained overall.\n",
        "\n",
        "In the case of our shapes, we've already put the colour and side length properties in the parent class ```RegularPolygon```, but we can actually shift more into there as well to make our children class even simpler.\n",
        "\n",
        "For instance, we can note that the ```perimeter``` class is always multiplying the side length by the number of sides. The formula is always the same, so we can move it to the parent class.\n",
        "\n",
        "Another change we can make is to note that the constructor of the ```Square``` and ```Triangle``` classes doesn't actually do anything other than call the constructor of the ```RegularPolygon``` class. If we remove the constructors from ```Square``` and ```Triangle```, when we create a new instance of ```Square``` or ```Triangle```, the constructor of the ```RegularPolygon``` class will now be called."
      ]
    },
    {
      "cell_type": "code",
      "metadata": {
        "id": "0c6gq6Fd_vNL",
        "outputId": "d7fc737f-c9dc-493f-c5bf-a33cfa0e5230",
        "colab": {
          "base_uri": "https://localhost:8080/"
        }
      },
      "source": [
        "class RegularPolygon:\n",
        "  # A constructor which takes the colour and side length and sets them\n",
        "  def __init__(self, colour, side_length):\n",
        "    self._colour = colour\n",
        "    self._side_length = side_length\n",
        "\n",
        "  # A property to return the colour\n",
        "  @property\n",
        "  def colour(self):\n",
        "    return(self._colour)\n",
        "\n",
        "  # A property to return the side length\n",
        "  @property\n",
        "  def side_length(self):\n",
        "    return(self._side_length)\n",
        "\n",
        "  # A property to return the perimeter\n",
        "  @property\n",
        "  def perimeter(self):\n",
        "    return(self.number_of_sides * self.side_length) #waiting to be called when you define a subclass\n",
        "\n",
        "# Define the Square class\n",
        "class Square(RegularPolygon):\n",
        "  number_of_sides = 4 #area is unique to shape so we put that in\n",
        "\n",
        "  # Define a property to return the area\n",
        "  @property\n",
        "  def area(self):\n",
        "    return(self.side_length ** 2)\n",
        "\n",
        "# Define the Triangle class\n",
        "class Triangle(RegularPolygon):\n",
        "  number_of_sides = 3\n",
        "\n",
        "  # Define a property to return the area\n",
        "  @property\n",
        "  def area(self):\n",
        "    return(math.sqrt(3) * self.side_length ** 2 / 4)\n",
        "\n",
        "# Create and test an example square\n",
        "print(\"Square Test\")\n",
        "square = Square(\"red\", 3)\n",
        "# Check the number of sides\n",
        "print(square.number_of_sides)\n",
        "# The colour and side_length properties from the RegularPolygon class are avialable from this instance of the Square class\n",
        "print(square.colour)\n",
        "print(square.side_length)\n",
        "# The area and perimeter properties are also available\n",
        "print(square.area)\n",
        "print(square.perimeter)\n",
        "\n",
        "# Create and test an example triangle\n",
        "print(\"Triangle Test\")\n",
        "triangle = Triangle(\"blue\", 4)\n",
        "# Check the number of sides\n",
        "print(triangle.number_of_sides)\n",
        "# The colour and side_length properties from the RegularPolygon class are avialable from this instance of the Square class\n",
        "print(triangle.colour)\n",
        "print(triangle.side_length)\n",
        "# The area and perimeter properties are also available\n",
        "print(triangle.area)\n",
        "print(triangle.perimeter)\n",
        "#all the universal properties have been defined in the parent class"
      ],
      "execution_count": 34,
      "outputs": [
        {
          "output_type": "stream",
          "name": "stdout",
          "text": [
            "Square Test\n",
            "4\n",
            "red\n",
            "3\n",
            "9\n",
            "12\n",
            "Triangle Test\n",
            "3\n",
            "blue\n",
            "4\n",
            "6.928203230275509\n",
            "12\n"
          ]
        }
      ]
    },
    {
      "cell_type": "markdown",
      "metadata": {
        "id": "uzk7jmiAE-dU"
      },
      "source": [
        "We can see that our new class definition still produces the same results. This is great news, as now our child classes of ```Square``` and ```Triangle``` only contain one class variable and a property. This means that extending the family of classes to include pentagons, hexagons and so on would be easier and quicker.\n",
        "\n",
        "It's worth quickly noting that the ```perimeter``` method of the ```RegularPolygon``` class references an attribute ```number_of_sides```, which isn't actually set anywhere inside the ```RegularPolygon``` class. This means creating an instance of ```RegularPolygon``` and trying to access the ```perimeter``` method would create an ```AttributeError``` as the instance wouldn't have an attribute with that name."
      ]
    },
    {
      "cell_type": "code",
      "metadata": {
        "id": "CVviEdgJHAnW",
        "outputId": "3085c002-a179-4d02-f97c-c969ad9413e9",
        "colab": {
          "base_uri": "https://localhost:8080/",
          "height": 322
        }
      },
      "source": [
        "polygon = RegularPolygon(\"yellow\", 3)\n",
        "#perimeter require subclass defiend and polygon is not in any of them\n",
        "print(polygon.perimeter)"
      ],
      "execution_count": 35,
      "outputs": [
        {
          "output_type": "error",
          "ename": "AttributeError",
          "evalue": "ignored",
          "traceback": [
            "\u001b[0;31m---------------------------------------------------------------------------\u001b[0m",
            "\u001b[0;31mAttributeError\u001b[0m                            Traceback (most recent call last)",
            "\u001b[0;32m<ipython-input-35-72970216902c>\u001b[0m in \u001b[0;36m<module>\u001b[0;34m()\u001b[0m\n\u001b[1;32m      1\u001b[0m \u001b[0mpolygon\u001b[0m \u001b[0;34m=\u001b[0m \u001b[0mRegularPolygon\u001b[0m\u001b[0;34m(\u001b[0m\u001b[0;34m\"yellow\"\u001b[0m\u001b[0;34m,\u001b[0m \u001b[0;36m3\u001b[0m\u001b[0;34m)\u001b[0m\u001b[0;34m\u001b[0m\u001b[0;34m\u001b[0m\u001b[0m\n\u001b[1;32m      2\u001b[0m \u001b[0;34m\u001b[0m\u001b[0m\n\u001b[0;32m----> 3\u001b[0;31m \u001b[0mprint\u001b[0m\u001b[0;34m(\u001b[0m\u001b[0mpolygon\u001b[0m\u001b[0;34m.\u001b[0m\u001b[0mperimeter\u001b[0m\u001b[0;34m)\u001b[0m\u001b[0;34m\u001b[0m\u001b[0;34m\u001b[0m\u001b[0m\n\u001b[0m",
            "\u001b[0;32m<ipython-input-34-294a75a1dc4b>\u001b[0m in \u001b[0;36mperimeter\u001b[0;34m(self)\u001b[0m\n\u001b[1;32m     18\u001b[0m   \u001b[0;34m@\u001b[0m\u001b[0mproperty\u001b[0m\u001b[0;34m\u001b[0m\u001b[0;34m\u001b[0m\u001b[0m\n\u001b[1;32m     19\u001b[0m   \u001b[0;32mdef\u001b[0m \u001b[0mperimeter\u001b[0m\u001b[0;34m(\u001b[0m\u001b[0mself\u001b[0m\u001b[0;34m)\u001b[0m\u001b[0;34m:\u001b[0m\u001b[0;34m\u001b[0m\u001b[0;34m\u001b[0m\u001b[0m\n\u001b[0;32m---> 20\u001b[0;31m     \u001b[0;32mreturn\u001b[0m\u001b[0;34m(\u001b[0m\u001b[0mself\u001b[0m\u001b[0;34m.\u001b[0m\u001b[0mnumber_of_sides\u001b[0m \u001b[0;34m*\u001b[0m \u001b[0mself\u001b[0m\u001b[0;34m.\u001b[0m\u001b[0mside_length\u001b[0m\u001b[0;34m)\u001b[0m \u001b[0;31m#waiting to be called when you define a subclass\u001b[0m\u001b[0;34m\u001b[0m\u001b[0;34m\u001b[0m\u001b[0m\n\u001b[0m\u001b[1;32m     21\u001b[0m \u001b[0;34m\u001b[0m\u001b[0m\n\u001b[1;32m     22\u001b[0m \u001b[0;31m# Define the Square class\u001b[0m\u001b[0;34m\u001b[0m\u001b[0;34m\u001b[0m\u001b[0;34m\u001b[0m\u001b[0m\n",
            "\u001b[0;31mAttributeError\u001b[0m: 'RegularPolygon' object has no attribute 'number_of_sides'"
          ]
        }
      ]
    },
    {
      "cell_type": "markdown",
      "metadata": {
        "id": "vkexiygGHBwy"
      },
      "source": [
        "However, this is a reasonable behaviour, as the question \"what is the perimeter of a regular polygon with a side length of 3 and an unknown number of sides?\" doesn't have an answer. So having an error reflecting the number of sides isn't defined caused an error is a reasonable behaviour."
      ]
    },
    {
      "cell_type": "markdown",
      "metadata": {
        "id": "KUfhQFLYGClU"
      },
      "source": [
        "## The Parent-Child Relationship\n",
        "\n",
        "When considering the relationship of parent and child classes, it can be helpful to remember that an instance of child should normally also be a more specific example of an instance of the parent class. In our example, a square is a more-specific example of a regular polygon.\n",
        "\n",
        "We can have multiple levels of inheritance. For instance, we could note a dog is a more specific version of an animal and beagles and poodles is a more specific example of a dog. So we could have a family of classes represented in an inheritance diagram like this:\n",
        "\n",
        "<center><img src='https://raw.githubusercontent.com/coolernato/Object-Oriented-Python/master/inheritance_dog.png' />\n",
        "<figcaption>Dog Inheritance Diagram</figcaption></center>\n",
        "</figure>\n",
        "\n",
        "In this type of diagram, the arrows mean \"inherits from\". This type of diagram is particularly helpful when there are complex families of classes related by inheritance.\n",
        "\n"
      ]
    },
    {
      "cell_type": "markdown",
      "metadata": {
        "id": "fAZ8vaekEwJU"
      },
      "source": [
        "### Exercise\n",
        "\n",
        "Now we've seen how we can organise a family of classes, we're going to extend that family. Currently, we have no way of representing a circle and a circle wouldn't inherit from a ```RegularPolygon``` as it's not a regular polygon.\n",
        "\n",
        "In the cell below is the current definition of the ```RegularPolygon```, ```Square``` and ```Triangle``` classes. Modify the code in this cell so it matches the inheritance diagram below:\n",
        "\n",
        "<center><img src='https://raw.githubusercontent.com/coolernato/Object-Oriented-Python/master/inheritance_shapes.png' />\n",
        "<figcaption>Shapes Inheritance Diagram</figcaption></center>\n",
        "</figure>\n",
        "\n",
        "All classes should have properties which return their colour, perimeter and area. All relevant values should be set by the constructor of the class (for the ```Circle``` class the radius of the circle is a natural variable to use).\n",
        "\n",
        "When you construct the classes, remember the design principles discussed in this notebook.\n",
        "\n",
        "The code cell contains some code designed to test the classes you construct.\n",
        "\n",
        "The perimeter of a circle is given by the equation $p=2\\pi r $ and the area is given by the equation $A=\\pi r ^{2}$."
      ]
    },
    {
      "cell_type": "code",
      "metadata": {
        "id": "0-THA1Dp_tXy",
        "outputId": "bc946927-b6b5-4128-de14-1fe05ccfc2ed",
        "colab": {
          "base_uri": "https://localhost:8080/"
        }
      },
      "source": [
        "import math\n",
        "class Shape:\n",
        "  def __init__(self, colour):\n",
        "    self._colour = colour\n",
        "  @property\n",
        "  def colour(self):\n",
        "    return self._colour\n",
        "\n",
        "# Define the RegularPolygon class\n",
        "class RegularPolygon(Shape):\n",
        "  def __init__(self, colour, side_length):\n",
        "    self._side_length = side_length\n",
        "    super().__init__(colour)\n",
        "\n",
        "  @property\n",
        "  def side_length(self):\n",
        "    return(self._side_length)\n",
        "\n",
        "  @property\n",
        "  def perimeter(self):\n",
        "    return(self.number_of_sides * self.side_length)\n",
        "\n",
        "# Define the Square class\n",
        "class Square(RegularPolygon):\n",
        "  number_of_sides = 4\n",
        "\n",
        "  @property\n",
        "  def area(self):\n",
        "    return(self.side_length ** 2)\n",
        "\n",
        "# Define the Triangle class\n",
        "class Triangle(RegularPolygon):\n",
        "  number_of_sides = 3\n",
        "\n",
        "  @property\n",
        "  def area(self):\n",
        "    return(math.sqrt(3) * self.side_length ** 2 / 4)\n",
        "\n",
        "class Circle(Shape):\n",
        "  def __init__(self,colour,radius):\n",
        "    super().__init__(colour)\n",
        "    self.radius = radius\n",
        "\n",
        "  @property\n",
        "  def colour(self):\n",
        "    return self._colour\n",
        "  @property\n",
        "  def area(self):\n",
        "    return self.radius**2 * math.pi \n",
        "  @property\n",
        "  def perimeter(self):\n",
        "    return self.radius * 2 * math.pi\n",
        "# Create and test an example square\n",
        "print(\"Square Test\")\n",
        "square = Square(\"red\", 3)\n",
        "# Check the relevant values\n",
        "print(square.number_of_sides)\n",
        "print(square.colour)\n",
        "print(square.side_length)\n",
        "print(square.area)\n",
        "print(square.perimeter)\n",
        "\n",
        "# Create and test an example triangle\n",
        "print(\"Triangle Test\")\n",
        "triangle = Triangle(\"blue\", 4)\n",
        "# Check the relevant values\n",
        "print(triangle.number_of_sides)\n",
        "print(triangle.colour)\n",
        "print(triangle.side_length)\n",
        "print(triangle.area)\n",
        "print(triangle.perimeter)\n",
        "\n",
        "# Create and test an example circle\n",
        "print(\"Circle Test\")\n",
        "circle = Circle(\"purple\", 5) # The 5 here represents the radius of the circle\n",
        "# Check the relevant values\n",
        "print(circle.radius)\n",
        "print(circle.colour)\n",
        "print(circle.area)\n",
        "print(circle.perimeter)"
      ],
      "execution_count": 41,
      "outputs": [
        {
          "output_type": "stream",
          "name": "stdout",
          "text": [
            "Square Test\n",
            "4\n",
            "red\n",
            "3\n",
            "9\n",
            "12\n",
            "Triangle Test\n",
            "3\n",
            "blue\n",
            "4\n",
            "6.928203230275509\n",
            "12\n",
            "Circle Test\n",
            "5\n",
            "purple\n",
            "78.53981633974483\n",
            "31.41592653589793\n"
          ]
        }
      ]
    },
    {
      "cell_type": "code",
      "metadata": {
        "id": "hgMrM41Xb-vk",
        "outputId": "d0264f52-d7f4-4482-c222-b5f69f983a22",
        "colab": {
          "base_uri": "https://localhost:8080/"
        }
      },
      "source": [
        "#@title\n",
        "#Import math to get the value of pi\n",
        "import math\n",
        "\n",
        "#Define the Shape class\n",
        "class Shape:\n",
        "  def __init__(self, colour):\n",
        "    self._colour = colour\n",
        "\n",
        "  # A property to return the colour\n",
        "  # Can be in the shape class as all shapes have a colour\n",
        "  @property\n",
        "  def colour(self):\n",
        "    return(self._colour)\n",
        "\n",
        "# Define the Regular Polygon Class\n",
        "# Cause it to inherit from Shape\n",
        "class RegularPolygon(Shape):\n",
        "  # A constructor which takes the colour and side length and sets them\n",
        "  def __init__(self, colour, side_length):\n",
        "    # Call the constructor of the Shape class\n",
        "    super().__init__(colour) #so self.colour = colour\n",
        "    #Set the side length\n",
        "    self._side_length = side_length\n",
        "\n",
        "  # A property to return the side length\n",
        "  @property\n",
        "  def side_length(self):\n",
        "    return(self._side_length)\n",
        "\n",
        "  # A property to return the perimeter\n",
        "  @property\n",
        "  def perimeter(self):\n",
        "    return(self.number_of_sides * self.side_length)\n",
        "\n",
        "# Define the Square class\n",
        "class Square(RegularPolygon):\n",
        "  number_of_sides = 4\n",
        "\n",
        "  # Define a property to return the area\n",
        "  @property\n",
        "  def area(self):\n",
        "    return(self.side_length ** 2)\n",
        "\n",
        "# Define the Triangle class\n",
        "class Triangle(RegularPolygon):\n",
        "  number_of_sides = 3\n",
        "\n",
        "  # Define a property to return the area\n",
        "  @property\n",
        "  def area(self):\n",
        "    return(math.sqrt(3) * self.side_length ** 2 / 4)\n",
        "\n",
        "# Define the Circle class\n",
        "# This inherits directly from Shape \n",
        "class Circle(Shape):\n",
        "  def __init__(self, colour, radius):\n",
        "    # Call Shape's constructor\n",
        "    super().__init__(colour)\n",
        "    # Set the radius\n",
        "    self._radius = radius\n",
        "\n",
        "  # Define a property to return the radius\n",
        "  @property\n",
        "  def radius(self):\n",
        "    return(self._radius)\n",
        "\n",
        "  # Define a property to return the area\n",
        "  @property\n",
        "  def area(self):\n",
        "    return(math.pi * self.radius ** 2)\n",
        "\n",
        "  # Define a property to return the perimeter\n",
        "  @property\n",
        "  def perimeter(self):\n",
        "    return(2 * math.pi * self.radius)\n",
        "\n",
        "# Create and test an example square\n",
        "print(\"Square Test\")\n",
        "square = Square(\"red\", 3)\n",
        "# Check the relevant values\n",
        "print(square.number_of_sides)\n",
        "print(square.colour)\n",
        "print(square.side_length)\n",
        "print(square.area)\n",
        "print(square.perimeter)\n",
        "\n",
        "# Create and test an example triangle\n",
        "print(\"Triangle Test\")\n",
        "triangle = Triangle(\"blue\", 4)\n",
        "# Check the relevant values\n",
        "print(triangle.number_of_sides)\n",
        "print(triangle.colour)\n",
        "print(triangle.side_length)\n",
        "print(triangle.area)\n",
        "print(triangle.perimeter)\n",
        "\n",
        "# Create and test an example circle\n",
        "print(\"Circle Test\")\n",
        "circle = Circle(\"purple\", 5) # The 5 here represents the radius of the circle\n",
        "# Check the relevant values\n",
        "print(circle.radius)\n",
        "print(circle.colour)\n",
        "print(circle.area)\n",
        "print(circle.perimeter)"
      ],
      "execution_count": 39,
      "outputs": [
        {
          "output_type": "stream",
          "name": "stdout",
          "text": [
            "Square Test\n",
            "4\n",
            "red\n",
            "3\n",
            "9\n",
            "12\n",
            "Triangle Test\n",
            "3\n",
            "blue\n",
            "4\n",
            "6.928203230275509\n",
            "12\n",
            "Circle Test\n",
            "5\n",
            "purple\n",
            "78.53981633974483\n",
            "31.41592653589793\n"
          ]
        }
      ]
    },
    {
      "cell_type": "code",
      "source": [
        ""
      ],
      "metadata": {
        "id": "VVIeapQ_yo5v"
      },
      "execution_count": null,
      "outputs": []
    }
  ]
}